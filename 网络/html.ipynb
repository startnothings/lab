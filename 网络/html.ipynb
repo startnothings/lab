{
 "cells": [
  {
   "cell_type": "code",
   "execution_count": null,
   "metadata": {},
   "outputs": [],
   "source": [
    "# 利用 HTMLParser 可将html网页结构化解析出来\n",
    "from html.parser import  HTMLParser 可将html网页结构化解析出来\n",
    "\n",
    "attrs_list = []\n",
    "\n",
    "\n",
    "class UrlParser(HTMLParser):\n",
    "    def __init__(self):\n",
    "        HTMLParser.__init__(self)\n",
    "\n",
    "    def handle_starttag(self, tag, attrs):\n",
    "        if tag == 'a':\n",
    "            attrs_list.append(attrs)\n",
    "\n",
    "\n",
    "html = '<a href=\"http://www.baidu.com/link?url=CKcTyC1-yIS7CSXhAoDIVwrF9jh4z-EUWRVYK8kRdKm9s9Vc0O_VR1DIczfI59cqLSSUoNvSQoBIK9ftKPfjaiKoJyb15elGVfRIGrtDgoO\" target=\"_blank\"><em>测试</em>_百度百科</a>'\n",
    "UrlParser().feed(html)\n",
    "attrs_list"
   ]
  },
  {
   "cell_type": "code",
   "execution_count": null,
   "metadata": {},
   "outputs": [],
   "source": []
  }
 ],
 "metadata": {
  "kernelspec": {
   "display_name": "Python 3",
   "language": "python",
   "name": "python3"
  },
  "language_info": {
   "codemirror_mode": {
    "name": "ipython",
    "version": 3
   },
   "file_extension": ".py",
   "mimetype": "text/x-python",
   "name": "python",
   "nbconvert_exporter": "python",
   "pygments_lexer": "ipython3",
   "version": "3.7.4"
  }
 },
 "nbformat": 4,
 "nbformat_minor": 4
}
